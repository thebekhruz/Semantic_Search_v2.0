{
 "cells": [
  {
   "cell_type": "code",
   "execution_count": 3,
   "metadata": {},
   "outputs": [],
   "source": [
    "import pandas as pd\n",
    "import re\n",
    "from typing import List, Dict, Any\n",
    "from neo4j import GraphDatabase\n"
   ]
  },
  {
   "cell_type": "code",
   "execution_count": 6,
   "metadata": {},
   "outputs": [],
   "source": [
    "def load_data_into_neo4j(df: pd.DataFrame, uri: str, user: str, password: str):\n",
    "    \"\"\"Loads the processed dataframe into a Neo4j graph database.\"\"\"\n",
    "    driver = GraphDatabase.driver(uri, auth=(user, password))\n",
    "    \n",
    "    def insert_data(tx, doc_id, document, named_entities):\n",
    "        query = (\n",
    "            \"MERGE (d:Document {id: $doc_id, text: $document}) \"\n",
    "            \"WITH d \"\n",
    "            \"UNWIND $named_entities AS ne \"\n",
    "            \"MERGE (t:EntityType {type: ne.ne_type}) \"\n",
    "            \"MERGE (e:NamedEntity {text: ne.ne_span}) \"\n",
    "            \"MERGE (d)-[:HAS_ENTITY_TYPE]->(t) \"\n",
    "            \"MERGE (t)-[:HAS_ENTITY]->(e)\"\n",
    "        )\n",
    "        tx.run(query, doc_id=doc_id, document=document, named_entities=named_entities)\n",
    "    \n",
    "    with driver.session() as session:\n",
    "        for _, row in df.iterrows():\n",
    "            session.execute_write(insert_data, row['Image_ID'], row['Document'], row['Named_Entities'])\n",
    "    \n",
    "    driver.close()\n",
    "\n",
    "# Load CSV\n",
    "processed_data_filepath = '../data/processed/processed_data.csv'\n",
    "df = pd.read_csv(processed_data_filepath)\n",
    "\n",
    "# Convert Named_Entities from string to list of dictionaries\n",
    "df['Named_Entities'] = df['Named_Entities'].apply(eval)\n",
    "\n",
    "\n",
    "# Load into Neo4j\n",
    "neo4j_uri = \"bolt://localhost:7687\"\n",
    "neo4j_user = \"neo4j\"\n",
    "neo4j_password = \"12345678\"\n",
    "load_data_into_neo4j(df, neo4j_uri, neo4j_user, neo4j_password)"
   ]
  },
  {
   "cell_type": "code",
   "execution_count": 5,
   "metadata": {},
   "outputs": [],
   "source": [
    "def delete_graph(uri: str, user: str, password: str):\n",
    "    \"\"\"Deletes all nodes and relationships in the Neo4j database.\"\"\"\n",
    "    driver = GraphDatabase.driver(uri, auth=(user, password))\n",
    "    with driver.session() as session:\n",
    "        session.run(\"MATCH (n) DETACH DELETE n\")\n",
    "    driver.close()\n",
    "\n",
    "neo4j_uri = \"bolt://localhost:7687\"\n",
    "neo4j_user = \"neo4j\"\n",
    "neo4j_password = \"12345678\"\n",
    "delete_graph(neo4j_uri, neo4j_user, neo4j_password)"
   ]
  }
 ],
 "metadata": {
  "kernelspec": {
   "display_name": "Semantic_Search_v2.0_env",
   "language": "python",
   "name": "python3"
  },
  "language_info": {
   "codemirror_mode": {
    "name": "ipython",
    "version": 3
   },
   "file_extension": ".py",
   "mimetype": "text/x-python",
   "name": "python",
   "nbconvert_exporter": "python",
   "pygments_lexer": "ipython3",
   "version": "3.10.0"
  }
 },
 "nbformat": 4,
 "nbformat_minor": 2
}
