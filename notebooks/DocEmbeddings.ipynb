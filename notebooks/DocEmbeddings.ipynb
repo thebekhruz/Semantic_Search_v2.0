{
 "cells": [
  {
   "cell_type": "code",
   "execution_count": null,
   "metadata": {},
   "outputs": [],
   "source": [
    "# !pip install -r ../requirements.txt\n",
    "from transformers import pipeline\n",
    "from sentence_transformers import SentenceTransformer\n",
    "from transformers import pipeline\n",
    "from sentence_transformers import SentenceTransformer\n",
    "from neo4j import GraphDatabase\n",
    "import numpy as np\n",
    "import pandas as pd\n",
    "import torch\n",
    "\n",
    "\n",
    "# Load data\n",
    "df = pd.read_csv('../data/processed/processed_data.csv')\n",
    "df.head()"
   ]
  },
  {
   "cell_type": "code",
   "execution_count": null,
   "metadata": {},
   "outputs": [],
   "source": [
    "# Load the SentenceTransformer model\n",
    "embedding_model = SentenceTransformer('all-MiniLM-L6-v2')  # Efficient and fast\n",
    "\n",
    "def get_doc_embedding(doc):\n",
    "    \"\"\"Generate a single document embedding as a flat list.\"\"\"\n",
    "    return embedding_model.encode(doc).tolist()  # Ensure it's a 1D list\n",
    "\n",
    "def generate_doc_embeddings(data):\n",
    "    \"\"\"Apply embedding generation to each document.\"\"\"\n",
    "    data['Embeddings'] = data['Document'].apply(get_doc_embedding)  # No need for .tolist()\n",
    "    return data\n",
    "\n",
    "\n",
    "df = generate_doc_embeddings(df)\n",
    "df.head()"
   ]
  },
  {
   "cell_type": "code",
   "execution_count": null,
   "metadata": {},
   "outputs": [],
   "source": [
    "# Save the data with embeddings\n",
    "df.to_csv('../data/processed/processed_data_with_embeddings.csv', index=False)\n",
    "print('Data with embeddings saved successfully')"
   ]
  }
 ],
 "metadata": {
  "language_info": {
   "name": "python"
  }
 },
 "nbformat": 4,
 "nbformat_minor": 2
}
