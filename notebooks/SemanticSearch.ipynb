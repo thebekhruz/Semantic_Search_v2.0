{
 "cells": [
  {
   "cell_type": "code",
   "execution_count": null,
   "metadata": {},
   "outputs": [],
   "source": [
    "# !pip install -r ../requirements.txt\n",
    "from transformers import pipeline\n",
    "from sentence_transformers import SentenceTransformer\n",
    "from transformers import pipeline\n",
    "from sentence_transformers import SentenceTransformer\n",
    "from neo4j import GraphDatabase\n",
    "import numpy as np\n",
    "import pandas as pd\n",
    "import torch\n"
   ]
  },
  {
   "cell_type": "code",
   "execution_count": null,
   "metadata": {},
   "outputs": [
    {
     "name": "stderr",
     "output_type": "stream",
     "text": [
      "Some weights of the model checkpoint at dslim/bert-base-NER were not used when initializing BertForTokenClassification: ['bert.pooler.dense.bias', 'bert.pooler.dense.weight']\n",
      "- This IS expected if you are initializing BertForTokenClassification from the checkpoint of a model trained on another task or with another architecture (e.g. initializing a BertForSequenceClassification model from a BertForPreTraining model).\n",
      "- This IS NOT expected if you are initializing BertForTokenClassification from the checkpoint of a model that you expect to be exactly identical (initializing a BertForSequenceClassification model from a BertForSequenceClassification model).\n",
      "Device set to use mps:0\n"
     ]
    }
   ],
   "source": [
    "# Initialize models\n",
    "ner_model = pipeline('ner', model='dslim/bert-base-NER', aggregation_strategy=\"simple\")\n",
    "embedding_model = SentenceTransformer('all-MiniLM-L6-v2')  # Efficient embedding model\n",
    "\n",
    "# Neo4j connection (modify with your credentials)\n",
    "NEO4J_URI = \"bolt://localhost:7687\"\n",
    "NEO4J_USER = \"neo4j\"\n",
    "NEO4J_PASSWORD = \"12345678\"\n",
    "\n",
    "def get_named_entities(user_input):\n",
    "    \"\"\"Extract named entities and return them as a list.\"\"\"\n",
    "    entities = ner_model(user_input)\n",
    "    return [entity['word'] for entity in entities]\n",
    "\n",
    "def get_query_embedding(query):\n",
    "    \"\"\"Generate query embedding.\"\"\"\n",
    "    return embedding_model.encode(query).tolist()  # Convert NumPy array to list for Neo4j\n",
    "\n",
    "\n",
    "def fetch_documents(entities, query_embedding):\n",
    "    \"\"\"Fetch relevant documents using Neo4j, considering both named entities and embeddings.\"\"\"\n",
    "    with GraphDatabase.driver(NEO4J_URI, auth=(NEO4J_USER, NEO4J_PASSWORD)) as driver:\n",
    "        with driver.session() as session:\n",
    "            # Step 1: Find documents mentioning extracted entities\n",
    "            entity_query = \"\"\"\n",
    "            MATCH (d:Document)-[:HAS_ENTITY]->(e:NamedEntity)\n",
    "            WHERE any(entity in $entities WHERE e.text CONTAINS entity)\n",
    "            RETURN d.id AS doc_id, d.text AS text, d.embedding AS embedding, COUNT(e) AS entity_score\n",
    "            ORDER BY entity_score DESC\n",
    "            LIMIT 50\n",
    "            \"\"\"\n",
    "            results = session.run(entity_query, entities=entities)\n",
    "\n",
    "            # Step 2: Use Neo4j GDS to compute cosine similarity\n",
    "            vector_query = \"\"\"\n",
    "            CALL db.index.vector.queryNodes('document_embedding_index', 10, $query_embedding)\n",
    "            YIELD node, score\n",
    "            RETURN node.text AS text, score\n",
    "            \"\"\"\n",
    "            vector_results = session.run(vector_query, query_embedding=query_embedding)\n",
    "\n",
    "            # Step 3: Merge Entity + Vector Scores\n",
    "            docs = []\n",
    "            entity_scores = {record[\"text\"]: record[\"entity_score\"] for record in results}\n",
    "\n",
    "            for record in vector_results:\n",
    "                doc_text = record[\"text\"]\n",
    "                similarity_score = record[\"score\"]\n",
    "                entity_score = entity_scores.get(doc_text, 0)\n",
    "\n",
    "                # Weighted Score: 70% cosine similarity, 30% entity match count\n",
    "                final_score = 0.7 * similarity_score + 0.3 * (entity_score / max(1, len(entities)))\n",
    "                docs.append((doc_text, final_score))\n",
    "\n",
    "            # Sort documents by final score\n",
    "            docs.sort(key=lambda x: x[1], reverse=True)\n",
    "            return docs[:10]  # Return top 10 results\n"
   ]
  },
  {
   "cell_type": "code",
   "execution_count": 19,
   "metadata": {},
   "outputs": [
    {
     "name": "stdout",
     "output_type": "stream",
     "text": [
      "Named Entities: ['Queen Victoria Road', 'High Wycombe']\n",
      "Query Embedding: 384\n",
      "[0.047259919345378876, -0.0050254100933671, 0.009446999058127403, 0.011550040915608406, 0.0034488989040255547, 0.04406385123729706, -0.06571777909994125, -0.03887023776769638, -0.06889384239912033, 0.014063204638659954, -0.008429056964814663, -0.040087293833494186, 0.036964550614356995, 0.013171747326850891, -0.014457369223237038, 0.061966486275196075, 0.009221840649843216, 0.008497585542500019, 0.021502012386918068, 0.02512035146355629, 0.049040861427783966, -0.017483001574873924, 0.015357885509729385, -0.03550645709037781, -0.10474926978349686, 0.03017442114651203, -0.014687899500131607, 0.10720934718847275, 0.013164877891540527, -0.0346587672829628, -0.020656226202845573, -0.008129528723657131, 0.03356825187802315, 0.03567840903997421, 0.06149589270353317, 0.02192855067551136, 0.04903529956936836, -0.02640468254685402, 0.038084451109170914, -0.02150961011648178, -0.00877613015472889, -0.02761322818696499, 0.02358333393931389, 0.00939110852777958, 0.010075247846543789, -0.0016235210932791233, 0.06044823303818703, -0.010316637344658375, 0.03148885443806648, -0.058273620903491974, -0.034052494913339615, -0.012528879567980766, -0.06665817648172379, -0.08655396103858948, -0.0032902099192142487, 0.01718517765402794, -0.03713289648294449, -0.04488818347454071, 0.04533694311976433, -0.08463166654109955, 0.01679323986172676, 0.05720268189907074, -0.02633007988333702, 0.0186825692653656, 0.01987750269472599, -0.003898585680872202, -0.07787112891674042, -0.005015354137867689, 0.10203364491462708, -0.10028133541345596, -0.07114603370428085, -0.020511623471975327, -0.006682751700282097, -0.10803433507680893, -0.024954089894890785, -0.03051399439573288, 0.05702388659119606, 0.0015551114920526743, -0.055643316358327866, -0.058932386338710785, -0.05053720623254776, -0.07074876129627228, 0.09842745214700699, 0.10066206008195877, 0.05682075768709183, -0.05894313380122185, -0.07563144713640213, -0.05833045393228531, -0.006003933493047953, -0.05226517468690872, -0.008427253924310207, -0.06949223577976227, -0.05898488312959671, 0.09991138428449631, -0.019753653556108475, -0.008662348613142967, 0.010400427505373955, -0.10943913459777832, 0.01342596672475338, 0.07757475972175598, -0.08774679154157639, -0.020093444734811783, 0.04633373022079468, 0.03698887676000595, -0.01791134476661682, 0.0011385638499632478, 0.03134115785360336, 0.11129705607891083, 0.009753923863172531, -0.03896823525428772, 0.00759453559294343, -0.011916982010006905, -0.02186412550508976, 0.027626654133200645, -0.0015534808626398444, -0.06294470280408859, -0.02691078372299671, -0.021114619448781013, -0.04693850129842758, -0.0543254092335701, 0.028639553114771843, -0.020909586921334267, 0.020204531028866768, -0.03894016519188881, -0.002349831396713853, -0.009249397553503513, 0.08234680444002151, 8.188581809904366e-34, 0.018017852678894997, 0.05293140560388565, 0.07245174795389175, 0.031500935554504395, 0.12454804033041, 0.003936002962291241, -0.017312025651335716, -0.006113346666097641, -0.037574414163827896, 0.08787431567907333, 0.05463702976703644, 0.02481870912015438, -0.016640588641166687, 0.018600938841700554, -0.021909864619374275, -0.03729032725095749, 0.03148148953914642, 0.031770627945661545, -0.05200538411736488, 0.0315253883600235, -0.06365513056516647, 0.004827618133276701, 0.061771564185619354, -0.02196488343179226, -0.013915014453232288, 0.0006078557926230133, 0.06028461083769798, 0.03532777354121208, 0.09362409263849258, 0.03885140269994736, 0.045952893793582916, -0.017087971791625023, 0.010627476498484612, -0.032236795872449875, -0.030966192483901978, 0.038014136254787445, -0.07026863098144531, -0.09723972529172897, -0.0006569910910911858, 0.04274844005703926, 0.06828427314758301, -0.06594232469797134, 0.023501010611653328, 0.06579555571079254, -0.01298963651061058, 0.05298374593257904, 0.015843769535422325, -0.01660601980984211, 0.036762382835149765, 0.06997746974229813, 0.05589607357978821, -0.04935828223824501, -0.2002396136522293, -0.029151789844036102, -0.057518716901540756, 0.04312445595860481, -0.07989004999399185, 0.03582324832677841, 0.05763126537203789, -0.01975775882601738, 0.050105053931474686, 0.04235048592090607, 0.007772926706820726, 0.007436708081513643, 0.006538193207234144, -0.09004072099924088, 0.08246616274118423, 0.003861349308863282, -0.04682977870106697, 0.05711464211344719, -0.020806903019547462, 0.026186959818005562, 0.10687492787837982, -0.0353056937456131, 0.033862389624118805, 0.05967552959918976, -0.09128297120332718, 0.02452000044286251, 0.05473744124174118, 0.07439501583576202, -0.012192893773317337, 0.057354796677827835, -0.0016027652891352773, -0.07410822808742523, 0.09722042083740234, -0.06930176168680191, -0.020287221297621727, -0.05605282261967659, -0.019650502130389214, -0.038224272429943085, -0.1281399428844452, 0.0580366887152195, -0.04744042456150055, -0.006584117654711008, -0.05260494723916054, -1.5206444714786661e-33, 0.01594008319079876, -0.016466405242681503, 0.06380327045917511, 0.01271511148661375, -0.072376549243927, 0.04084217548370361, 0.07752519845962524, -0.019413383677601814, -0.013529310002923012, 0.08881329745054245, 0.03940876945853233, -0.0049630724824965, -0.012556811794638634, -0.03308683633804321, -0.05809914693236351, -0.10947400331497192, 0.11526544392108917, -0.043558377772569656, -0.03365619480609894, -0.028297463431954384, -0.045185387134552, -0.01973613165318966, -0.03938395529985428, -0.047821979969739914, -0.08407750725746155, 0.07388869673013687, 0.020221225917339325, -0.029087191447615623, -0.030128713697195053, 0.03132195398211479, -0.05873626098036766, -0.05214572325348854, -0.00230393442325294, -0.017513692378997803, -0.023953884840011597, 0.032168198376894, -0.005226358771324158, -0.048807837069034576, -0.024171698838472366, -0.01138891838490963, -0.004779417999088764, -0.04888417199254036, 0.021714622154831886, 0.015966935083270073, 0.03558889403939247, -0.044426437467336655, -0.0680934265255928, -0.005007248837500811, 0.09573139250278473, 0.13823722302913666, 0.047464046627283096, 0.013753790408372879, -0.0034123677760362625, 0.06870440393686295, 0.02443920634686947, 0.011190488934516907, -0.038196295499801636, 0.0303203072398901, 0.0743560940027237, 0.05584728345274925, 0.03429097309708595, 0.05942782014608383, -0.17563661932945251, 0.02538243494927883, 0.0882277637720108, 0.02151895873248577, -0.07456536591053009, -0.006004604510962963, -0.04899512603878975, 0.0018597955349832773, -0.015547502785921097, 0.0332060307264328, 0.046113550662994385, -0.061697617173194885, -0.005277948919683695, -0.012215723283588886, 0.0516667477786541, 0.02060541883111, 0.04490472748875618, -0.03806275129318237, 0.03255592659115791, -0.02694573998451233, 0.02147531323134899, 0.0728672668337822, -0.028238099068403244, 0.02714519016444683, -0.021719269454479218, -0.009233955293893814, 0.07790160179138184, -0.04353722184896469, -0.009049750864505768, -0.010693038813769817, -0.013134672306478024, -0.06149585172533989, 0.0498020239174366, -1.910111535607939e-08, -0.02809278480708599, 0.04192749410867691, 0.023472396656870842, -0.055074434727430344, -0.005131490062922239, 0.009011886082589626, 0.06745032221078873, 0.03642844408750534, -0.049837324768304825, 0.0416768342256546, 0.04584110155701637, -0.07225055992603302, -0.030291138216853142, 0.03539862111210823, 0.052311912178993225, -0.014824442565441132, -0.048497289419174194, -0.06477387249469757, -0.004435516893863678, -0.028629232197999954, -0.033743180334568024, -0.032458968460559845, 0.12927909195423126, 0.05748222395777702, -0.03320137411355972, -0.05860495567321777, -0.027620654553174973, -0.060968779027462006, -0.05533266067504883, -0.05322074145078659, 0.021473098546266556, 0.02376466803252697, 0.06153281033039093, 0.04979955777525902, 0.01407935842871666, -0.05742976814508438, -0.06141233071684837, 0.023103659972548485, -0.00860481709241867, 0.03394109010696411, -0.024311592802405357, -0.0783117264509201, 0.05561406910419464, 0.022738253697752953, 0.1183229461312294, 0.07510960102081299, 0.03446175903081894, 0.03164013847708702, -0.05594051629304886, -0.016176199540495872, -0.04587923735380173, -0.0271918848156929, 0.031715139746665955, 0.06164271757006645, -0.09420143812894821, 0.03129151836037636, 0.037523046135902405, -0.027146469801664352, -0.022652188315987587, 0.13406412303447723, 0.01906387321650982, -0.03555215895175934, -0.06494288146495819, -0.03773675113916397]\n",
      "[('View towards South East of junction of Queen Victoria Road with High Street  and Easton Street , High Wycombe, October 1936\\nEast corner of Queen Victoria Road  at junction with Easton Street  and High Street , High Wycombe', 1.0456104278564453), ('Reference Library, Queen Victoria Road , High Wycombe. 1993 to 1994\\nReference Library', 0.6041431665420531), ('Looking North, streetscape view of roadworks in Hughenden Road, High Wycombe. c1895\\nHughenden Road  looking North', 0.6023799419403075), ('View from North, looking South along Queen Victoria Road , High Wycombe. about 1960\\nQueen Victoria Road  from North to South showing Post Office, Christchurch Sunday School, Council Offices, Library and gardens, and traffic sign', 0.5980093479156494), ('Copy of an illustration(?) showing the Guildhall and West end of the High Street , High Wycombe. 1930s?\\nShowing Red Lion Hotel, Falcon Hotel and Guildhall', 0.5936115503311157), (\"In the Library foyer, a display to commemorate the Golden Jubilee of the accession of Queen Elizabeth II, Queen Victoria Road , High Wycombe. 2002\\nA display to commemorate the Golden Jubilee of the accession of Queen Elizabeth II in the Library foyer. Banner hanging above. Displays entitled Queen's visit to High Wycombe in 1962, The Queen's Image, The Accession and Coronation Addresses of the London County Council and Queen Elizabeth the Queen Mother 4th August 1900 to 30th March 2002. Another image on RHW01598\", 0.5935739994049072), ('View of street-scene in Jubilee Road, High Wycombe. November 1968\\nSouth side? (assuming TV Aerials point towards crystal Palace! HDC)', 0.592858862876892), ('View South from junction with High Street  of Queen Victoria Road . High Wycombe. about 1960\\nBritannic Assurance Co. Ltd Post Office Building at one time H.West. Food Office and BCC Ambulance Station Municipal Offices gardens Library Road sign showing crossing A40 and A404 signs to public conveniences and railway station', 0.5924331188201903), (\"Composite postcard showing seven views of High Wycombe and West Wycombe. 1950's?\\nPostcard with seven views of High Wycombe and West Wycombe. Left top, Queen Victoria Road  with the Police Station, Town Hall and Library left and Council Offices facing. Top right, both sides of West Wycombe High Street , looking West. Centre left, Recreation ground - the Rye, looking North. Centre, elevated view from church tower at West Wycombe, looking East. Centre right, Frogmoor looking North to railway line with shops and a cinema. Bottom left, the Waterfall at East end of the Dyke on The Rye. Bottom right, the Town Hall in Queen Victoria Road .\", 0.5923827171325683), ('Looking east from close to the junction with Kings road, a view along London Road , Wycombe Marsh. 1930s\\nFurther along from RHW01208', 0.5911368608474731)]\n",
      "1. View towards South East of junction of Queen Victoria Road with High Street  and Easton Street , High Wycombe, October 1936\n",
      "East corner of Queen Victoria Road  at junction with Easton Street  and High Street , High Wycombe (Score: 1.0456)\n",
      "2. Reference Library, Queen Victoria Road , High Wycombe. 1993 to 1994\n",
      "Reference Library (Score: 0.6041)\n",
      "3. Looking North, streetscape view of roadworks in Hughenden Road, High Wycombe. c1895\n",
      "Hughenden Road  looking North (Score: 0.6024)\n",
      "4. View from North, looking South along Queen Victoria Road , High Wycombe. about 1960\n",
      "Queen Victoria Road  from North to South showing Post Office, Christchurch Sunday School, Council Offices, Library and gardens, and traffic sign (Score: 0.5980)\n",
      "5. Copy of an illustration(?) showing the Guildhall and West end of the High Street , High Wycombe. 1930s?\n",
      "Showing Red Lion Hotel, Falcon Hotel and Guildhall (Score: 0.5936)\n",
      "6. In the Library foyer, a display to commemorate the Golden Jubilee of the accession of Queen Elizabeth II, Queen Victoria Road , High Wycombe. 2002\n",
      "A display to commemorate the Golden Jubilee of the accession of Queen Elizabeth II in the Library foyer. Banner hanging above. Displays entitled Queen's visit to High Wycombe in 1962, The Queen's Image, The Accession and Coronation Addresses of the London County Council and Queen Elizabeth the Queen Mother 4th August 1900 to 30th March 2002. Another image on RHW01598 (Score: 0.5936)\n",
      "7. View of street-scene in Jubilee Road, High Wycombe. November 1968\n",
      "South side? (assuming TV Aerials point towards crystal Palace! HDC) (Score: 0.5929)\n",
      "8. View South from junction with High Street  of Queen Victoria Road . High Wycombe. about 1960\n",
      "Britannic Assurance Co. Ltd Post Office Building at one time H.West. Food Office and BCC Ambulance Station Municipal Offices gardens Library Road sign showing crossing A40 and A404 signs to public conveniences and railway station (Score: 0.5924)\n",
      "9. Composite postcard showing seven views of High Wycombe and West Wycombe. 1950's?\n",
      "Postcard with seven views of High Wycombe and West Wycombe. Left top, Queen Victoria Road  with the Police Station, Town Hall and Library left and Council Offices facing. Top right, both sides of West Wycombe High Street , looking West. Centre left, Recreation ground - the Rye, looking North. Centre, elevated view from church tower at West Wycombe, looking East. Centre right, Frogmoor looking North to railway line with shops and a cinema. Bottom left, the Waterfall at East end of the Dyke on The Rye. Bottom right, the Town Hall in Queen Victoria Road . (Score: 0.5924)\n",
      "10. Looking east from close to the junction with Kings road, a view along London Road , Wycombe Marsh. 1930s\n",
      "Further along from RHW01208 (Score: 0.5911)\n"
     ]
    }
   ],
   "source": [
    "def semantic_search(user_query):\n",
    "    \"\"\"Perform full semantic search combining NER and embeddings.\"\"\"\n",
    "    named_entities = get_named_entities(user_query)\n",
    "    print(f\"Named Entities: {named_entities}\")\n",
    "    query_embedding = get_query_embedding(user_query)\n",
    "    query_embedding = [float(x) for x in query_embedding]  # Ensure all values are floats\n",
    "\n",
    "    print(f\"Query Embedding: {len(query_embedding)}\")  \n",
    "    print(query_embedding)  \n",
    "    results = fetch_documents(named_entities, query_embedding)\n",
    "\n",
    "    return results\n",
    "\n",
    "# Example Query\n",
    "query = \"Show images of Queen Victoria Road, High Wycombe\"\n",
    "search_results = semantic_search(query)\n",
    "print(search_results)\n",
    "# Display results\n",
    "for i, (doc_text, score) in enumerate(search_results):\n",
    "    print(f\"{i+1}. {doc_text} (Score: {score:.4f})\")"
   ]
  }
 ],
 "metadata": {
  "kernelspec": {
   "display_name": "Semantic_Search_v2.0_env",
   "language": "python",
   "name": "python3"
  },
  "language_info": {
   "codemirror_mode": {
    "name": "ipython",
    "version": 3
   },
   "file_extension": ".py",
   "mimetype": "text/x-python",
   "name": "python",
   "nbconvert_exporter": "python",
   "pygments_lexer": "ipython3",
   "version": "3.10.0"
  }
 },
 "nbformat": 4,
 "nbformat_minor": 2
}
