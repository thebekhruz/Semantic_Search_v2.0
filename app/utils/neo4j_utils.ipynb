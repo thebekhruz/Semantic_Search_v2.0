{
 "cells": [
  {
   "cell_type": "code",
   "execution_count": 1,
   "metadata": {},
   "outputs": [],
   "source": [
    "import pandas as pd\n",
    "import re\n",
    "from typing import List, Dict, Any\n",
    "import ast  \n",
    "from neo4j import GraphDatabase\n"
   ]
  },
  {
   "cell_type": "code",
   "execution_count": null,
   "metadata": {},
   "outputs": [
    {
     "name": "stdout",
     "output_type": "stream",
     "text": [
      "<class 'pandas.core.frame.DataFrame'>\n",
      "RangeIndex: 1983 entries, 0 to 1982\n",
      "Data columns (total 4 columns):\n",
      " #   Column          Non-Null Count  Dtype \n",
      "---  ------          --------------  ----- \n",
      " 0   Image_ID        1983 non-null   object\n",
      " 1   Document        1983 non-null   object\n",
      " 2   Named_Entities  1983 non-null   object\n",
      " 3   Embeddings      1983 non-null   object\n",
      "dtypes: object(4)\n",
      "memory usage: 62.1+ KB\n"
     ]
    }
   ],
   "source": [
    "processed_data_filepath = '../data/processed/processed_data_with_embeddings.csv'\n",
    "df = pd.read_csv(processed_data_filepath)\n",
    "df.info()\n",
    "\n",
    "# Convert Named_Entities from string to list of dictionaries\n",
    "df['Named_Entities'] = df['Named_Entities'].apply(ast.literal_eval)\n",
    "# Convert Embeddings from string to list of floats\n",
    "df['Embeddings'] = df['Embeddings'].apply(lambda x: [float(i) for i in ast.literal_eval(x)])"
   ]
  },
  {
   "cell_type": "code",
   "execution_count": null,
   "metadata": {},
   "outputs": [],
   "source": [
    "def load_data_into_neo4j(df: pd.DataFrame, uri: str, user: str, password: str):\n",
    "    \"\"\"Loads the processed dataframe into a Neo4j graph database.\"\"\"\n",
    "    driver = GraphDatabase.driver(uri, auth=(user, password))\n",
    "    \n",
    "    def insert_data(tx, doc_id, document, doc_embedding, named_entities):\n",
    "        query = (\n",
    "            \"MERGE (d:Document {id: $doc_id}) \"\n",
    "            \"SET d.text = $document, d.embedding = $doc_embedding \"\n",
    "            \"WITH d \"\n",
    "            \"UNWIND $named_entities AS ne \"\n",
    "            \"MERGE (e:NamedEntity {text: ne.ne_span, type: ne.ne_type}) \"\n",
    "            \"MERGE (d)-[:HAS_ENTITY]->(e) \"\n",
    "        )\n",
    "        tx.run(query, doc_id=doc_id, document=document, doc_embedding=doc_embedding, named_entities=named_entities)\n",
    "    \n",
    "    with driver.session() as session:\n",
    "        for _, row in df.iterrows():\n",
    "            session.execute_write(insert_data, row['Image_ID'], row['Document'], row['Embeddings'], row['Named_Entities'])\n",
    "    \n",
    "    driver.close()\n",
    "\n",
    "\n",
    "# Load into Neo4j\n",
    "neo4j_uri = \"bolt://localhost:7687\"\n",
    "neo4j_user = \"neo4j\"\n",
    "neo4j_password = \"12345678\"\n",
    "load_data_into_neo4j(df, neo4j_uri, neo4j_user, neo4j_password)"
   ]
  },
  {
   "cell_type": "code",
   "execution_count": 9,
   "metadata": {},
   "outputs": [],
   "source": [
    "def delete_graph(uri: str, user: str, password: str):\n",
    "    \"\"\"Deletes all nodes and relationships in the Neo4j database.\"\"\"\n",
    "    driver = GraphDatabase.driver(uri, auth=(user, password))\n",
    "    with driver.session() as session:\n",
    "        session.run(\"MATCH (n) DETACH DELETE n\")\n",
    "    driver.close()\n",
    "\n",
    "neo4j_uri = \"bolt://localhost:7687\"\n",
    "neo4j_user = \"neo4j\"\n",
    "neo4j_password = \"12345678\"\n",
    "delete_graph(neo4j_uri, neo4j_user, neo4j_password)"
   ]
  }
 ],
 "metadata": {
  "kernelspec": {
   "display_name": "Semantic_Search_v2.0_env",
   "language": "python",
   "name": "python3"
  },
  "language_info": {
   "codemirror_mode": {
    "name": "ipython",
    "version": 3
   },
   "file_extension": ".py",
   "mimetype": "text/x-python",
   "name": "python",
   "nbconvert_exporter": "python",
   "pygments_lexer": "ipython3",
   "version": "3.10.0"
  }
 },
 "nbformat": 4,
 "nbformat_minor": 2
}
